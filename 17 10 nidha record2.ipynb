{
 "cells": [
  {
   "cell_type": "code",
   "execution_count": 2,
   "id": "b8646905",
   "metadata": {},
   "outputs": [
    {
     "name": "stdout",
     "output_type": "stream",
     "text": [
      "Enter temperature in celsius:25\n",
      "The fahrenheit temperature is: 77.0\n"
     ]
    }
   ],
   "source": [
    "#CONVERT CELSIUS TO FAHRENHEIT\n",
    "T=int(input(\"Enter temperature in celsius:\"))\n",
    "F=T * 9/5 + 32\n",
    "print(\"The fahrenheit temperature is:\",F)"
   ]
  },
  {
   "cell_type": "code",
   "execution_count": 8,
   "id": "9fe0278d",
   "metadata": {},
   "outputs": [
    {
     "name": "stdout",
     "output_type": "stream",
     "text": [
      "Enter the kilometers:4\n",
      "4.00 is equal to 2.49\n"
     ]
    }
   ],
   "source": [
    "#KILOMETER TO MILES\n",
    "a=float(input(\"Enter the kilometers:\"))\n",
    "b=a*(0.62137)\n",
    "print(\"{:.2f} is equal to {:.2f}\".format(a,b))"
   ]
  },
  {
   "cell_type": "code",
   "execution_count": 14,
   "id": "5cd8458f",
   "metadata": {},
   "outputs": [
    {
     "name": "stdout",
     "output_type": "stream",
     "text": [
      "Enter the price of the product A:120\n",
      "Enter the price of the product B:80\n",
      "Enter the price of the product C:30\n",
      "Final price(after 15% discount) : 195.5\n",
      "average price : 76.67\n",
      "product A is more expensive than the final price : False\n",
      "product B is more expensive than the final price : False\n",
      "product C is more expensive than the final price : False\n",
      "Final price is in range between 60 to 100 : True\n"
     ]
    }
   ],
   "source": [
    "#PRICE OF PRODUCT\n",
    "A=float(input(\"Enter the price of the product A:\"))\n",
    "B=float(input(\"Enter the price of the product B:\"))\n",
    "C=float(input(\"Enter the price of the product C:\"))\n",
    "Total_price=A+B+C\n",
    "discount=Total_price * 0.15\n",
    "final_price=Total_price-discount\n",
    "print(f\"Final price(after 15% discount) : {final_price}\")\n",
    "avg_price=Total_price/3\n",
    "print(f\"average price : {avg_price:.2f}\")\n",
    "print(f\"product A is more expensive than the final price : {A>final_price}\")\n",
    "print(f\"product B is more expensive than the final price : {B>final_price}\")\n",
    "print(f\"product C is more expensive than the final price : {C>final_price}\")\n",
    "print(f\"Final price is in range between 60 to 100 : {final_price>60 and final_price<200}\")"
   ]
  },
  {
   "cell_type": "code",
   "execution_count": null,
   "id": "066065dd",
   "metadata": {},
   "outputs": [],
   "source": []
  },
  {
   "cell_type": "code",
   "execution_count": null,
   "id": "0a16511a",
   "metadata": {},
   "outputs": [],
   "source": []
  }
 ],
 "metadata": {
  "kernelspec": {
   "display_name": "Python 3 (ipykernel)",
   "language": "python",
   "name": "python3"
  },
  "language_info": {
   "codemirror_mode": {
    "name": "ipython",
    "version": 3
   },
   "file_extension": ".py",
   "mimetype": "text/x-python",
   "name": "python",
   "nbconvert_exporter": "python",
   "pygments_lexer": "ipython3",
   "version": "3.11.5"
  }
 },
 "nbformat": 4,
 "nbformat_minor": 5
}
