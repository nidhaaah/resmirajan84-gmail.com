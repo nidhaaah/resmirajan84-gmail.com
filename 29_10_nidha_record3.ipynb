{
 "cells": [
  {
   "cell_type": "code",
   "execution_count": 6,
   "id": "6d2d9f10",
   "metadata": {},
   "outputs": [
    {
     "name": "stdout",
     "output_type": "stream",
     "text": [
      "Enter the word :Dream\n",
      "swaped : mreaD\n"
     ]
    }
   ],
   "source": [
    "#Exchange first and last char\n",
    "str=(input(\"Enter the word :\"))\n",
    "s=str[0]\n",
    "e=str[-1]\n",
    "swap_str=e+str[1:-1]+s\n",
    "print(\"swaped :\",swap_str)"
   ]
  },
  {
   "cell_type": "code",
   "execution_count": 7,
   "id": "75f88e8a",
   "metadata": {},
   "outputs": [
    {
     "name": "stdout",
     "output_type": "stream",
     "text": [
      "Before swap : abc  xyz\n",
      "After swap : xyc  abz\n"
     ]
    }
   ],
   "source": [
    "#TWO STRINGS\n",
    "a='abc'\n",
    "b='xyz'\n",
    "print(\"Before swap :\",a,\"\",b)\n",
    "a1=b[:2] + a[2:]\n",
    "b1=a[:2] + b[2:]\n",
    "print(\"After swap :\",a1,\"\",b1)"
   ]
  },
  {
   "cell_type": "code",
   "execution_count": 9,
   "id": "ed8ba249",
   "metadata": {},
   "outputs": [
    {
     "name": "stdout",
     "output_type": "stream",
     "text": [
      "Enter the word :avocado\n",
      "output : avoc$do\n"
     ]
    }
   ],
   "source": [
    "#CHANGED TO $\n",
    "string=(input(\"Enter the word :\"))\n",
    "print(\"output :\",string[0]+string[1:].replace(string[0],'$'))"
   ]
  },
  {
   "cell_type": "code",
   "execution_count": 10,
   "id": "53eab07b",
   "metadata": {},
   "outputs": [
    {
     "name": "stdout",
     "output_type": "stream",
     "text": [
      "Enter the colors:black,white,green,red\n",
      "The first color is : black\n",
      "The second color is : red\n"
     ]
    }
   ],
   "source": [
    "#COLORS\n",
    "x=(input(\"Enter the colors:\").split(\",\"))\n",
    "print(\"The first color is :\",x[0])\n",
    "print(\"The second color is :\",x[-1])\n",
    "\n"
   ]
  },
  {
   "cell_type": "code",
   "execution_count": 11,
   "id": "89de1ec3",
   "metadata": {},
   "outputs": [
    {
     "name": "stdout",
     "output_type": "stream",
     "text": [
      "input the filename:ABC.ORG\n",
      "the extension of the file is: ORG\n"
     ]
    }
   ],
   "source": [
    "#EXTENTION\n",
    "a=input(\"input the filename:\")\n",
    "b=a.split(\".\")\n",
    "print(\"the extension of the file is:\",b[-1])"
   ]
  },
  {
   "cell_type": "code",
   "execution_count": 21,
   "id": "d970850a",
   "metadata": {},
   "outputs": [
    {
     "name": "stdout",
     "output_type": "stream",
     "text": [
      "Enter the elements:a,s,d,f,g,h,j,k,l\n",
      "The tuple is: ['a', 's', 'd', 'f', 'g', 'h', 'j', 'k', 'l']\n",
      "3rd elements of the tuple is: d\n",
      "3rd elements of the last tuple is: j\n"
     ]
    }
   ],
   "source": [
    "#THIRD ELEMENT\n",
    "a=(input(\"Enter the elements:\").split(\",\"))\n",
    "print(\"The tuple is:\",a)\n",
    "i=a[2]\n",
    "print(\"3rd elements of the tuple is:\",i)\n",
    "j=a[-3]\n",
    "print(\"3rd elements of the last tuple is:\",j)\n",
    "\n"
   ]
  },
  {
   "cell_type": "code",
   "execution_count": 22,
   "id": "13b4e1ac",
   "metadata": {},
   "outputs": [
    {
     "name": "stdout",
     "output_type": "stream",
     "text": [
      "Enter the colors in set a(comma separated):black,white,green,red\n",
      "Enter the colors in set b(comma separated):black,blue,green,yellow\n",
      "Difference of {'white', 'red', 'green', 'black'} and {'blue', 'yellow', 'green', 'black'}:{'white', 'red'}\n"
     ]
    }
   ],
   "source": [
    "#COLOR SET\n",
    "a=set(input(\"Enter the colors in set a(comma separated):\").split(\",\"))\n",
    "b=set(input(\"Enter the colors in set b(comma separated):\").split(\",\"))\n",
    "difference_a_b=a-b\n",
    "print(f\"Difference of {a} and {b}:{difference_a_b}\")"
   ]
  },
  {
   "cell_type": "code",
   "execution_count": 25,
   "id": "35841a5a",
   "metadata": {},
   "outputs": [
    {
     "name": "stdout",
     "output_type": "stream",
     "text": [
      "Enter 5 student names separated by spaces:nidha niya aysha aneesa rabeeha\n",
      "students_sorted in ascenting order: {'aneesa': 4, 'aysha': 3, 'nidha': 1, 'niya': 2, 'rabeeha': 5}\n",
      "students_sorted in descenting order: {'rabeeha': 5, 'niya': 2, 'nidha': 1, 'aysha': 3, 'aneesa': 4}\n"
     ]
    }
   ],
   "source": [
    "#INPUT FROM THE USER\n",
    "student_names=input(\"Enter 5 student names separated by spaces:\").split()\n",
    "students=dict(zip(student_names, range(1,6)))\n",
    "sorted_students_acs=dict(sorted(students.items()))\n",
    "sorted_students_desc=dict(sorted(students.items(), reverse=True))\n",
    "print(\"students_sorted in ascenting order:\",sorted_students_acs)\n",
    "print(\"students_sorted in descenting order:\",sorted_students_desc)"
   ]
  },
  {
   "cell_type": "code",
   "execution_count": 29,
   "id": "f6090d53",
   "metadata": {},
   "outputs": [
    {
     "name": "stdout",
     "output_type": "stream",
     "text": [
      "Enter 3 students name :nidha niya fathima\n",
      "Enter 2 students name :aysha khadeeja\n",
      "Merged Dictionary: {1: 'Nidha', 2: 'Ayisha', 3: 'Niya', 4: 'Fathima', 5: 'Jovina'}\n"
     ]
    }
   ],
   "source": [
    "#MERGE TWO DICTIONARIES\n",
    "dic1=(input(\"Enter 3 students name :\"))\n",
    "dic2=(input(\"Enter 2 students name :\"))\n",
    "dic1 = {1:\"Nidha\", 2:\"Ayisha\", 3:\"Niya\"}\n",
    "dic2 = {4:\"Fathima\", 5:\"Jovina\"}\n",
    "dic1.update(dic2)\n",
    "print(\"Merged Dictionary:\",dic1)"
   ]
  },
  {
   "cell_type": "code",
   "execution_count": 30,
   "id": "9bcac272",
   "metadata": {},
   "outputs": [
    {
     "name": "stdout",
     "output_type": "stream",
     "text": [
      "Even numbers from 1 to 25: [2, 4, 6, 8, 10, 12, 14, 16, 18, 20, 22, 24]\n",
      "Sum of even numbers: 156\n"
     ]
    }
   ],
   "source": [
    "#PRINT EVEN NO.s AND CALCULATE SUM\n",
    "e_num = list(range(2,26,2))\n",
    "print(\"Even numbers from 1 to 25:\", e_num)\n",
    "total_sum = sum(e_num)\n",
    "print(\"Sum of even numbers:\", total_sum)"
   ]
  },
  {
   "cell_type": "code",
   "execution_count": null,
   "id": "660c8646",
   "metadata": {},
   "outputs": [],
   "source": []
  }
 ],
 "metadata": {
  "kernelspec": {
   "display_name": "Python 3 (ipykernel)",
   "language": "python",
   "name": "python3"
  },
  "language_info": {
   "codemirror_mode": {
    "name": "ipython",
    "version": 3
   },
   "file_extension": ".py",
   "mimetype": "text/x-python",
   "name": "python",
   "nbconvert_exporter": "python",
   "pygments_lexer": "ipython3",
   "version": "3.11.5"
  }
 },
 "nbformat": 4,
 "nbformat_minor": 5
}
