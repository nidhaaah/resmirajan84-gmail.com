{
 "cells": [
  {
   "cell_type": "code",
   "execution_count": 1,
   "id": "e54f2cba",
   "metadata": {},
   "outputs": [
    {
     "name": "stdout",
     "output_type": "stream",
     "text": [
      "enter the final year2025\n",
      "there is no leap year between them2024 to 2025.\n"
     ]
    }
   ],
   "source": [
    "#LEAP YEAR\n",
    "import datetime\n",
    "def lyear(year):\n",
    "     return (year % 4 == 0 and year % 100 != 0) or (year % 400 == 0)\n",
    "f_year=int(input(\"enter the final year\"))\n",
    "c_year=datetime.datetime.now().year\n",
    "l_year=[year for year in range(c_year + 1, f_year + 1) if lyear(year)]\n",
    "if l_year:\n",
    "    print(f\"future leap year {c_year} to {f_year}:{l_year}\" )\n",
    "else:\n",
    "    print(f\"there is no leap year between them{c_year} to {f_year}.\")"
   ]
  },
  {
   "cell_type": "code",
   "execution_count": 5,
   "id": "29622d95",
   "metadata": {},
   "outputs": [
    {
     "name": "stdout",
     "output_type": "stream",
     "text": [
      "enter the number:6\n",
      "the factorial 6 is 720.\n"
     ]
    }
   ],
   "source": [
    "def fac(n):\n",
    "    if n==0 or n==1:\n",
    "        return 1\n",
    "    else:\n",
    "        return n * fac(n - 1)\n",
    "num=int(input(\"enter the number:\"))\n",
    "if num<0:\n",
    "    print(\"negaive number\")\n",
    "else:\n",
    "    print(f\"the factorial {num} is {fac(num)}.\")"
   ]
  },
  {
   "cell_type": "code",
   "execution_count": 7,
   "id": "351e3f50",
   "metadata": {},
   "outputs": [
    {
     "name": "stdout",
     "output_type": "stream",
     "text": [
      "enter the number:6\n",
      "the fibanacci series6 terms is [0, 1, 1, 2, 3, 5]\n"
     ]
    }
   ],
   "source": [
    "#SERIES OF A FIBNACCI\n",
    "def fib(n):\n",
    "    series=[]\n",
    "    a,b=0,1\n",
    "    for x in range(n):\n",
    "        series.append(a)\n",
    "        a,b=b,a+b\n",
    "    return series\n",
    "n=int(input(\"enter the number:\"))\n",
    "print(f\"the fibanacci series{n} terms is {fib(n)}\")"
   ]
  },
  {
   "cell_type": "code",
   "execution_count": 9,
   "id": "51149edd",
   "metadata": {},
   "outputs": [
    {
     "name": "stdout",
     "output_type": "stream",
     "text": [
      "enter the word::mad\n",
      "length of the longest word:3 \n"
     ]
    }
   ],
   "source": [
    "#LONGEST WORLD \n",
    "def longest_word(n):\n",
    "    l_word=max(n,key=len)\n",
    "    return len(l_word)\n",
    "n=input(\"enter the word::\").split()\n",
    "print(f\"length of the longest word:{longest_word(n)} \")"
   ]
  },
  {
   "cell_type": "code",
   "execution_count": 11,
   "id": "e111f2b8",
   "metadata": {},
   "outputs": [
    {
     "name": "stdout",
     "output_type": "stream",
     "text": [
      "enter the size::5\n",
      "enter the length::4\n",
      "enter the width::3\n",
      "enter the base::2\n",
      "enter the height::1\n",
      "area of square 25.0\n",
      "area of square 12.0\n",
      "area of square 1.0\n"
     ]
    }
   ],
   "source": [
    "#AREA OF SQUARE,RECTANGLE,TRIANGLE\n",
    "area_squ= lambda s:s**2\n",
    "area_rec= lambda l,w:l*w\n",
    "area_tra= lambda b,h:0.5*b*h\n",
    "s=float(input(\"enter the size::\"))\n",
    "l=float(input(\"enter the length::\"))\n",
    "w=float(input(\"enter the width::\"))\n",
    "b=float(input(\"enter the base::\"))\n",
    "h=float(input(\"enter the height::\"))\n",
    "print(f\"area of square {area_squ(s)}\")\n",
    "print(f\"area of square {area_rec(l,w)}\")\n",
    "print(f\"area of square {area_tra(b,h)}\")"
   ]
  },
  {
   "cell_type": "code",
   "execution_count": 12,
   "id": "0525f95f",
   "metadata": {},
   "outputs": [
    {
     "name": "stdout",
     "output_type": "stream",
     "text": [
      "Enter the number of steps (N): 6\n",
      "* \n",
      "* * \n",
      "* * * \n",
      "* * * * \n",
      "* * * * * \n",
      "* * * * * * \n",
      "* * * * * \n",
      "* * * * \n",
      "* * * \n",
      "* * \n",
      "* \n"
     ]
    }
   ],
   "source": [
    "#PYRMAID (*)\n",
    "def print_pyramid(n):\n",
    "    for i in range(1, n+1):\n",
    "        print(\"* \" * i)    \n",
    "    for i in range(n-1, 0, -1):\n",
    "        print(\"* \" * i)\n",
    "n = int(input(\"Enter the number of steps (N): \"))\n",
    "print_pyramid(n)"
   ]
  },
  {
   "cell_type": "code",
   "execution_count": 14,
   "id": "b8bbf188",
   "metadata": {},
   "outputs": [
    {
     "name": "stdout",
     "output_type": "stream",
     "text": [
      "Enter a number: 45\n",
      "Factors of 45 are: [1, 3, 5, 9, 15, 45]\n"
     ]
    }
   ],
   "source": [
    "#FACTORS OF A NUMBER\n",
    "def factors(n):\n",
    "    factor_list = []\n",
    "    for i in range(1, n+1):\n",
    "        if n % i == 0:\n",
    "            factor_list.append(i)    \n",
    "    return factor_list\n",
    "number = int(input(\"Enter a number: \"))\n",
    "print(\"Factors of\", number, \"are:\", factors(number))"
   ]
  },
  {
   "cell_type": "code",
   "execution_count": 16,
   "id": "a1c7110c",
   "metadata": {},
   "outputs": [
    {
     "name": "stdout",
     "output_type": "stream",
     "text": [
      "Enter the number of steps (N): 6\n",
      "1 \n",
      "2 4 \n",
      "3 6 9 \n",
      "4 8 12 16 \n",
      "5 10 15 20 25 \n",
      "6 12 18 24 30 36 \n"
     ]
    }
   ],
   "source": [
    "#PYRAMID WITH NUMBERS \n",
    "def print_pyramid(n):\n",
    "    for i in range(1, n+1):\n",
    "        for j in range(1, i+1):\n",
    "            print(i * j, end=\" \")\n",
    "        print()\n",
    "n = int(input(\"Enter the number of steps (N): \"))\n",
    "print_pyramid(n)"
   ]
  },
  {
   "cell_type": "code",
   "execution_count": null,
   "id": "adcb0486",
   "metadata": {},
   "outputs": [],
   "source": []
  }
 ],
 "metadata": {
  "kernelspec": {
   "display_name": "Python 3 (ipykernel)",
   "language": "python",
   "name": "python3"
  },
  "language_info": {
   "codemirror_mode": {
    "name": "ipython",
    "version": 3
   },
   "file_extension": ".py",
   "mimetype": "text/x-python",
   "name": "python",
   "nbconvert_exporter": "python",
   "pygments_lexer": "ipython3",
   "version": "3.11.5"
  }
 },
 "nbformat": 4,
 "nbformat_minor": 5
}
