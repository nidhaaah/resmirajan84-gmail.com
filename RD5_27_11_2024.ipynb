{
 "cells": [
  {
   "cell_type": "code",
   "execution_count": 1,
   "id": "47008bfa",
   "metadata": {},
   "outputs": [
    {
     "name": "stdout",
     "output_type": "stream",
     "text": [
      "Enter 1st number:20\n",
      "Enter 2nd number:22\n",
      "GCD of 20 and 22 is: 2\n"
     ]
    }
   ],
   "source": [
    "#gcd\n",
    "import math\n",
    "n1 = int(input(\"Enter 1st number:\"))\n",
    "n2 = int(input(\"Enter 2nd number:\"))\n",
    "\n",
    "gcd = math.gcd(n1,n2)\n",
    "\n",
    "print(f\"GCD of {n1} and {n2} is: {gcd}\")"
   ]
  },
  {
   "cell_type": "code",
   "execution_count": 2,
   "id": "0f2cfe20",
   "metadata": {},
   "outputs": [
    {
     "name": "stdout",
     "output_type": "stream",
     "text": [
      "Enter numbers separated by spaces: 1 2 3 4 5 6\n",
      "List with even numbers removed: [1, 3, 5]\n"
     ]
    }
   ],
   "source": [
    "#remove even no.\n",
    "user_input = input(\"Enter numbers separated by spaces: \")\n",
    "\n",
    "nums = list(map(int, user_input.split()))\n",
    "\n",
    "odd_num = [num for num in nums if num % 2 != 0]\n",
    "\n",
    "print(\"List with even numbers removed:\",odd_num)"
   ]
  },
  {
   "cell_type": "code",
   "execution_count": 4,
   "id": "3d14c7be",
   "metadata": {},
   "outputs": [
    {
     "name": "stdout",
     "output_type": "stream",
     "text": [
      "Enter numbers separated by spaces: 1 2 3 4 5 \n",
      "Sum of all items in the list: 15\n"
     ]
    }
   ],
   "source": [
    "#sum of items\n",
    "user_input = input(\"Enter numbers separated by spaces: \")\n",
    "\n",
    "nums = list(map(int, user_input.split()))\n",
    "\n",
    "total_sum = sum(nums)\n",
    "\n",
    "print(\"Sum of all items in the list:\",total_sum)"
   ]
  },
  {
   "cell_type": "code",
   "execution_count": 5,
   "id": "2b118e8b",
   "metadata": {},
   "outputs": [
    {
     "name": "stdout",
     "output_type": "stream",
     "text": [
      "Enter the starting number of the range: 1000\n",
      "Enter the ending number of the range: 10000\n",
      "Perfect squares with all even digits in the range 1000-10000: [4624, 6084, 6400, 8464]\n"
     ]
    }
   ],
   "source": [
    "#generate list of 4-digit no. that all digits are even & no. is a perfect sq\n",
    "import math\n",
    "\n",
    "start = int(input(\"Enter the starting number of the range: \"))\n",
    "end = int(input(\"Enter the ending number of the range: \"))\n",
    "\n",
    "result = []\n",
    "\n",
    "for num in range(start, end + 1):\n",
    "    if all(int(digit) % 2 == 0 for digit in str(num)) and int(math.sqrt(num)) ** 2 == num:\n",
    "        result.append(num)\n",
    "\n",
    "print(f\"Perfect squares with all even digits in the range {start}-{end}:\", result)"
   ]
  },
  {
   "cell_type": "code",
   "execution_count": 6,
   "id": "3b236f62",
   "metadata": {},
   "outputs": [
    {
     "name": "stdout",
     "output_type": "stream",
     "text": [
      "Enter a string:hi everyone\n",
      "Character frequency: {'e': 3, 'o': 1, ' ': 1, 'h': 1, 'i': 1, 'r': 1, 'v': 1, 'y': 1, 'n': 1}\n"
     ]
    }
   ],
   "source": [
    "#char frequency\n",
    "text = input(\"Enter a string:\")\n",
    "\n",
    "char_fqy = {char: text.count(char)for char in set(text)}\n",
    "\n",
    "print(\"Character frequency:\",char_fqy)"
   ]
  },
  {
   "cell_type": "code",
   "execution_count": 7,
   "id": "d7d4e703",
   "metadata": {},
   "outputs": [
    {
     "name": "stdout",
     "output_type": "stream",
     "text": [
      "Enter a string:singing\n",
      "Modified string: singingly\n"
     ]
    }
   ],
   "source": [
    "#add 'ing' if already ing adds 'ly'\n",
    "text = input(\"Enter a string:\")\n",
    "\n",
    "if text.endswith(\"ing\"):\n",
    "    text += \"ly\"\n",
    "else:\n",
    "    text += \"ing\"\n",
    "    \n",
    "print(\"Modified string:\",text)"
   ]
  },
  {
   "cell_type": "code",
   "execution_count": null,
   "id": "bcf19cfd",
   "metadata": {},
   "outputs": [],
   "source": []
  }
 ],
 "metadata": {
  "kernelspec": {
   "display_name": "Python 3 (ipykernel)",
   "language": "python",
   "name": "python3"
  },
  "language_info": {
   "codemirror_mode": {
    "name": "ipython",
    "version": 3
   },
   "file_extension": ".py",
   "mimetype": "text/x-python",
   "name": "python",
   "nbconvert_exporter": "python",
   "pygments_lexer": "ipython3",
   "version": "3.11.5"
  }
 },
 "nbformat": 4,
 "nbformat_minor": 5
}
