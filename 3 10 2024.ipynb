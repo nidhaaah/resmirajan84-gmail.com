{
 "cells": [
  {
   "cell_type": "code",
   "execution_count": 2,
   "id": "8cfcedd1",
   "metadata": {},
   "outputs": [
    {
     "name": "stdout",
     "output_type": "stream",
     "text": [
      "Enter the side of the square:3\n",
      "area = 9\n"
     ]
    }
   ],
   "source": [
    "#AREA OF A SQUARE\n",
    "area=int(input(\"Enter the side of the square:\"))\n",
    "area=area*area\n",
    "print(\"area =\",area)"
   ]
  },
  {
   "cell_type": "code",
   "execution_count": 3,
   "id": "285e3337",
   "metadata": {},
   "outputs": [
    {
     "name": "stdout",
     "output_type": "stream",
     "text": [
      "Enter your name:nidha\n",
      "hello,nidha:\n"
     ]
    }
   ],
   "source": [
    "#HELLO NAME\n",
    "user=input(\"Enter your name:\")\n",
    "print(f\"hello,{user}:\")"
   ]
  },
  {
   "cell_type": "code",
   "execution_count": 3,
   "id": "bea3e5b2",
   "metadata": {},
   "outputs": [
    {
     "name": "stdout",
     "output_type": "stream",
     "text": [
      "Enter 5 numbers seperated by comma:1,2,4,8\n",
      "output [1, 2, 4, 8]\n"
     ]
    }
   ],
   "source": [
    "n=input(\"Enter 5 numbers seperated by comma:\").split(',')\n",
    "q=list(map(int,n))\n",
    "print(\"output\",q)"
   ]
  },
  {
   "cell_type": "code",
   "execution_count": 4,
   "id": "4e088d98",
   "metadata": {},
   "outputs": [
    {
     "name": "stdout",
     "output_type": "stream",
     "text": [
      "Enter 3 colors seperated by comma:red,green,black\n",
      "Enter 3 colors seperated by comma:green,black,white\n",
      "output {'red'}\n"
     ]
    }
   ],
   "source": [
    "#COLOR SET\n",
    "p=set(input(\"Enter 3 colors seperated by comma:\").split(','))\n",
    "q=set(input(\"Enter 3 colors seperated by comma:\").split(','))\n",
    "c=p-q\n",
    "print(\"output\",c)"
   ]
  },
  {
   "cell_type": "code",
   "execution_count": 6,
   "id": "ff6b984b",
   "metadata": {},
   "outputs": [
    {
     "name": "stdout",
     "output_type": "stream",
     "text": [
      "Entetr 3 student names seperated by comma:nidha,aysha,aneesa\n",
      "Entetr 3 student names seperated by comma:nidha,aysha,rashika\n",
      "output {1: 'nidha', 2: 'aysha', 3: 'aneesa', 4: 'nidha', 5: 'aysha', 6: 'rashika'}\n"
     ]
    }
   ],
   "source": [
    "#DICTIONARY\n",
    "p=input(\"Entetr 3 student names seperated by comma:\").split(\",\")\n",
    "pd={1:p[0],2:p[1],3:p[2]}\n",
    "q=input(\"Entetr 3 student names seperated by comma:\").split(\",\")\n",
    "qd={4:q[0],5:q[1],6:q[2]}\n",
    "pd.update(qd)\n",
    "print(\"output\",pd)"
   ]
  },
  {
   "cell_type": "code",
   "execution_count": 8,
   "id": "686206b8",
   "metadata": {},
   "outputs": [
    {
     "name": "stdout",
     "output_type": "stream",
     "text": [
      "Entetr 3 roll number seperated by comma:4,2,3\n",
      "Entetr 3 names seperated by comma:nidha,arsha,niya\n",
      "dict {'4': 'nidha', '2': 'arsha', '3': 'niya'}\n",
      "sorted dict {'2': 'arsha', '3': 'niya', '4': 'nidha'}\n"
     ]
    }
   ],
   "source": [
    "roll=input(\"Entetr 3 roll number seperated by comma:\").split(\",\")\n",
    "name=input(\"Entetr 3 names seperated by comma:\").split(\",\")\n",
    "d={roll[0]:name[0],roll[1]:name[1],roll[2]:name[2]}\n",
    "print(\"dict\",d)\n",
    "s=dict(sorted(d.items()))\n",
    "print(\"sorted dict\",s)"
   ]
  },
  {
   "cell_type": "code",
   "execution_count": null,
   "id": "28303b8d",
   "metadata": {},
   "outputs": [],
   "source": []
  }
 ],
 "metadata": {
  "kernelspec": {
   "display_name": "Python 3 (ipykernel)",
   "language": "python",
   "name": "python3"
  },
  "language_info": {
   "codemirror_mode": {
    "name": "ipython",
    "version": 3
   },
   "file_extension": ".py",
   "mimetype": "text/x-python",
   "name": "python",
   "nbconvert_exporter": "python",
   "pygments_lexer": "ipython3",
   "version": "3.11.5"
  }
 },
 "nbformat": 4,
 "nbformat_minor": 5
}
